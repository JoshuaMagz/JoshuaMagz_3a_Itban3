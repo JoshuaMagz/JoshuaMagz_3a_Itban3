{
  "nbformat": 4,
  "nbformat_minor": 0,
  "metadata": {
    "colab": {
      "provenance": [],
      "authorship_tag": "ABX9TyMFBFjRzUIXVjmZxemmb6yi",
      "include_colab_link": true
    },
    "kernelspec": {
      "name": "python3",
      "display_name": "Python 3"
    },
    "language_info": {
      "name": "python"
    }
  },
  "cells": [
    {
      "cell_type": "markdown",
      "metadata": {
        "id": "view-in-github",
        "colab_type": "text"
      },
      "source": [
        "<a href=\"https://colab.research.google.com/github/JoshuaMagz/JoshuaMagz_3a_Itban3/blob/main/Laboratory_Exercise_2_Magdagasang.ipynb\" target=\"_parent\"><img src=\"https://colab.research.google.com/assets/colab-badge.svg\" alt=\"Open In Colab\"/></a>"
      ]
    },
    {
      "cell_type": "code",
      "execution_count": 1,
      "metadata": {
        "id": "aygWAso0FZfR"
      },
      "outputs": [],
      "source": [
        "from google.colab import drive"
      ]
    },
    {
      "cell_type": "code",
      "source": [
        "drive.mount('/content/gdrive/')"
      ],
      "metadata": {
        "id": "wSIoC-5OFpQf",
        "colab": {
          "base_uri": "https://localhost:8080/"
        },
        "outputId": "c30602cb-dca2-4dc5-ebc4-c85a80452e2c"
      },
      "execution_count": 2,
      "outputs": [
        {
          "output_type": "stream",
          "name": "stdout",
          "text": [
            "Mounted at /content/gdrive/\n"
          ]
        }
      ]
    },
    {
      "cell_type": "code",
      "source": [
        "import os\n",
        "import pandas as pd\n",
        "import numpy as np\n",
        "import matplotlib.pyplot as plt\n",
        "import seaborn as sns\n",
        "import warnings\n",
        "from scipy.stats import zscore\n",
        "from sklearn.preprocessing import MinMaxScaler\n",
        "from sklearn.model_selection import train_test_split"
      ],
      "metadata": {
        "id": "ODd3EfGXFojI"
      },
      "execution_count": 71,
      "outputs": []
    },
    {
      "cell_type": "code",
      "source": [
        "dataset_path = '/content/gdrive/My Drive/Magdagasang_ITBAN3_Collab_Notebook/loans.csv'\n",
        "df = pd.read_csv(dataset_path)\n",
        "df.set_index('client_id', inplace=True)"
      ],
      "metadata": {
        "id": "x9xt-J7UE3QB"
      },
      "execution_count": 38,
      "outputs": []
    },
    {
      "cell_type": "code",
      "source": [
        "df.head()"
      ],
      "metadata": {
        "colab": {
          "base_uri": "https://localhost:8080/",
          "height": 238
        },
        "id": "CWxUQbaeVB8U",
        "outputId": "94be2cd2-d996-4e37-b7f1-3b0267081422"
      },
      "execution_count": 39,
      "outputs": [
        {
          "output_type": "execute_result",
          "data": {
            "text/plain": [
              "          loan_type  loan_amount  repaid  loan_id  loan_start    loan_end  \\\n",
              "client_id                                                                   \n",
              "46109          home        13672       0    10243  2002-04-16  2003-12-20   \n",
              "46109        credit         9794       0    10984  2003-10-21  2005-07-17   \n",
              "46109          home        12734       1    10990  2006-02-01  2007-07-05   \n",
              "46109          cash        12518       1    10596  2010-12-08  2013-05-05   \n",
              "46109        credit        14049       1    11415  2010-07-07  2012-05-21   \n",
              "\n",
              "           rate  \n",
              "client_id        \n",
              "46109      2.15  \n",
              "46109      1.25  \n",
              "46109      0.68  \n",
              "46109      1.24  \n",
              "46109      3.13  "
            ],
            "text/html": [
              "\n",
              "  <div id=\"df-73886bd8-a80b-4436-90f1-c78a65b3c88e\" class=\"colab-df-container\">\n",
              "    <div>\n",
              "<style scoped>\n",
              "    .dataframe tbody tr th:only-of-type {\n",
              "        vertical-align: middle;\n",
              "    }\n",
              "\n",
              "    .dataframe tbody tr th {\n",
              "        vertical-align: top;\n",
              "    }\n",
              "\n",
              "    .dataframe thead th {\n",
              "        text-align: right;\n",
              "    }\n",
              "</style>\n",
              "<table border=\"1\" class=\"dataframe\">\n",
              "  <thead>\n",
              "    <tr style=\"text-align: right;\">\n",
              "      <th></th>\n",
              "      <th>loan_type</th>\n",
              "      <th>loan_amount</th>\n",
              "      <th>repaid</th>\n",
              "      <th>loan_id</th>\n",
              "      <th>loan_start</th>\n",
              "      <th>loan_end</th>\n",
              "      <th>rate</th>\n",
              "    </tr>\n",
              "    <tr>\n",
              "      <th>client_id</th>\n",
              "      <th></th>\n",
              "      <th></th>\n",
              "      <th></th>\n",
              "      <th></th>\n",
              "      <th></th>\n",
              "      <th></th>\n",
              "      <th></th>\n",
              "    </tr>\n",
              "  </thead>\n",
              "  <tbody>\n",
              "    <tr>\n",
              "      <th>46109</th>\n",
              "      <td>home</td>\n",
              "      <td>13672</td>\n",
              "      <td>0</td>\n",
              "      <td>10243</td>\n",
              "      <td>2002-04-16</td>\n",
              "      <td>2003-12-20</td>\n",
              "      <td>2.15</td>\n",
              "    </tr>\n",
              "    <tr>\n",
              "      <th>46109</th>\n",
              "      <td>credit</td>\n",
              "      <td>9794</td>\n",
              "      <td>0</td>\n",
              "      <td>10984</td>\n",
              "      <td>2003-10-21</td>\n",
              "      <td>2005-07-17</td>\n",
              "      <td>1.25</td>\n",
              "    </tr>\n",
              "    <tr>\n",
              "      <th>46109</th>\n",
              "      <td>home</td>\n",
              "      <td>12734</td>\n",
              "      <td>1</td>\n",
              "      <td>10990</td>\n",
              "      <td>2006-02-01</td>\n",
              "      <td>2007-07-05</td>\n",
              "      <td>0.68</td>\n",
              "    </tr>\n",
              "    <tr>\n",
              "      <th>46109</th>\n",
              "      <td>cash</td>\n",
              "      <td>12518</td>\n",
              "      <td>1</td>\n",
              "      <td>10596</td>\n",
              "      <td>2010-12-08</td>\n",
              "      <td>2013-05-05</td>\n",
              "      <td>1.24</td>\n",
              "    </tr>\n",
              "    <tr>\n",
              "      <th>46109</th>\n",
              "      <td>credit</td>\n",
              "      <td>14049</td>\n",
              "      <td>1</td>\n",
              "      <td>11415</td>\n",
              "      <td>2010-07-07</td>\n",
              "      <td>2012-05-21</td>\n",
              "      <td>3.13</td>\n",
              "    </tr>\n",
              "  </tbody>\n",
              "</table>\n",
              "</div>\n",
              "    <div class=\"colab-df-buttons\">\n",
              "\n",
              "  <div class=\"colab-df-container\">\n",
              "    <button class=\"colab-df-convert\" onclick=\"convertToInteractive('df-73886bd8-a80b-4436-90f1-c78a65b3c88e')\"\n",
              "            title=\"Convert this dataframe to an interactive table.\"\n",
              "            style=\"display:none;\">\n",
              "\n",
              "  <svg xmlns=\"http://www.w3.org/2000/svg\" height=\"24px\" viewBox=\"0 -960 960 960\">\n",
              "    <path d=\"M120-120v-720h720v720H120Zm60-500h600v-160H180v160Zm220 220h160v-160H400v160Zm0 220h160v-160H400v160ZM180-400h160v-160H180v160Zm440 0h160v-160H620v160ZM180-180h160v-160H180v160Zm440 0h160v-160H620v160Z\"/>\n",
              "  </svg>\n",
              "    </button>\n",
              "\n",
              "  <style>\n",
              "    .colab-df-container {\n",
              "      display:flex;\n",
              "      gap: 12px;\n",
              "    }\n",
              "\n",
              "    .colab-df-convert {\n",
              "      background-color: #E8F0FE;\n",
              "      border: none;\n",
              "      border-radius: 50%;\n",
              "      cursor: pointer;\n",
              "      display: none;\n",
              "      fill: #1967D2;\n",
              "      height: 32px;\n",
              "      padding: 0 0 0 0;\n",
              "      width: 32px;\n",
              "    }\n",
              "\n",
              "    .colab-df-convert:hover {\n",
              "      background-color: #E2EBFA;\n",
              "      box-shadow: 0px 1px 2px rgba(60, 64, 67, 0.3), 0px 1px 3px 1px rgba(60, 64, 67, 0.15);\n",
              "      fill: #174EA6;\n",
              "    }\n",
              "\n",
              "    .colab-df-buttons div {\n",
              "      margin-bottom: 4px;\n",
              "    }\n",
              "\n",
              "    [theme=dark] .colab-df-convert {\n",
              "      background-color: #3B4455;\n",
              "      fill: #D2E3FC;\n",
              "    }\n",
              "\n",
              "    [theme=dark] .colab-df-convert:hover {\n",
              "      background-color: #434B5C;\n",
              "      box-shadow: 0px 1px 3px 1px rgba(0, 0, 0, 0.15);\n",
              "      filter: drop-shadow(0px 1px 2px rgba(0, 0, 0, 0.3));\n",
              "      fill: #FFFFFF;\n",
              "    }\n",
              "  </style>\n",
              "\n",
              "    <script>\n",
              "      const buttonEl =\n",
              "        document.querySelector('#df-73886bd8-a80b-4436-90f1-c78a65b3c88e button.colab-df-convert');\n",
              "      buttonEl.style.display =\n",
              "        google.colab.kernel.accessAllowed ? 'block' : 'none';\n",
              "\n",
              "      async function convertToInteractive(key) {\n",
              "        const element = document.querySelector('#df-73886bd8-a80b-4436-90f1-c78a65b3c88e');\n",
              "        const dataTable =\n",
              "          await google.colab.kernel.invokeFunction('convertToInteractive',\n",
              "                                                    [key], {});\n",
              "        if (!dataTable) return;\n",
              "\n",
              "        const docLinkHtml = 'Like what you see? Visit the ' +\n",
              "          '<a target=\"_blank\" href=https://colab.research.google.com/notebooks/data_table.ipynb>data table notebook</a>'\n",
              "          + ' to learn more about interactive tables.';\n",
              "        element.innerHTML = '';\n",
              "        dataTable['output_type'] = 'display_data';\n",
              "        await google.colab.output.renderOutput(dataTable, element);\n",
              "        const docLink = document.createElement('div');\n",
              "        docLink.innerHTML = docLinkHtml;\n",
              "        element.appendChild(docLink);\n",
              "      }\n",
              "    </script>\n",
              "  </div>\n",
              "\n",
              "\n",
              "<div id=\"df-1388ad79-23b9-4489-8a80-2b879100ac10\">\n",
              "  <button class=\"colab-df-quickchart\" onclick=\"quickchart('df-1388ad79-23b9-4489-8a80-2b879100ac10')\"\n",
              "            title=\"Suggest charts\"\n",
              "            style=\"display:none;\">\n",
              "\n",
              "<svg xmlns=\"http://www.w3.org/2000/svg\" height=\"24px\"viewBox=\"0 0 24 24\"\n",
              "     width=\"24px\">\n",
              "    <g>\n",
              "        <path d=\"M19 3H5c-1.1 0-2 .9-2 2v14c0 1.1.9 2 2 2h14c1.1 0 2-.9 2-2V5c0-1.1-.9-2-2-2zM9 17H7v-7h2v7zm4 0h-2V7h2v10zm4 0h-2v-4h2v4z\"/>\n",
              "    </g>\n",
              "</svg>\n",
              "  </button>\n",
              "\n",
              "<style>\n",
              "  .colab-df-quickchart {\n",
              "      --bg-color: #E8F0FE;\n",
              "      --fill-color: #1967D2;\n",
              "      --hover-bg-color: #E2EBFA;\n",
              "      --hover-fill-color: #174EA6;\n",
              "      --disabled-fill-color: #AAA;\n",
              "      --disabled-bg-color: #DDD;\n",
              "  }\n",
              "\n",
              "  [theme=dark] .colab-df-quickchart {\n",
              "      --bg-color: #3B4455;\n",
              "      --fill-color: #D2E3FC;\n",
              "      --hover-bg-color: #434B5C;\n",
              "      --hover-fill-color: #FFFFFF;\n",
              "      --disabled-bg-color: #3B4455;\n",
              "      --disabled-fill-color: #666;\n",
              "  }\n",
              "\n",
              "  .colab-df-quickchart {\n",
              "    background-color: var(--bg-color);\n",
              "    border: none;\n",
              "    border-radius: 50%;\n",
              "    cursor: pointer;\n",
              "    display: none;\n",
              "    fill: var(--fill-color);\n",
              "    height: 32px;\n",
              "    padding: 0;\n",
              "    width: 32px;\n",
              "  }\n",
              "\n",
              "  .colab-df-quickchart:hover {\n",
              "    background-color: var(--hover-bg-color);\n",
              "    box-shadow: 0 1px 2px rgba(60, 64, 67, 0.3), 0 1px 3px 1px rgba(60, 64, 67, 0.15);\n",
              "    fill: var(--button-hover-fill-color);\n",
              "  }\n",
              "\n",
              "  .colab-df-quickchart-complete:disabled,\n",
              "  .colab-df-quickchart-complete:disabled:hover {\n",
              "    background-color: var(--disabled-bg-color);\n",
              "    fill: var(--disabled-fill-color);\n",
              "    box-shadow: none;\n",
              "  }\n",
              "\n",
              "  .colab-df-spinner {\n",
              "    border: 2px solid var(--fill-color);\n",
              "    border-color: transparent;\n",
              "    border-bottom-color: var(--fill-color);\n",
              "    animation:\n",
              "      spin 1s steps(1) infinite;\n",
              "  }\n",
              "\n",
              "  @keyframes spin {\n",
              "    0% {\n",
              "      border-color: transparent;\n",
              "      border-bottom-color: var(--fill-color);\n",
              "      border-left-color: var(--fill-color);\n",
              "    }\n",
              "    20% {\n",
              "      border-color: transparent;\n",
              "      border-left-color: var(--fill-color);\n",
              "      border-top-color: var(--fill-color);\n",
              "    }\n",
              "    30% {\n",
              "      border-color: transparent;\n",
              "      border-left-color: var(--fill-color);\n",
              "      border-top-color: var(--fill-color);\n",
              "      border-right-color: var(--fill-color);\n",
              "    }\n",
              "    40% {\n",
              "      border-color: transparent;\n",
              "      border-right-color: var(--fill-color);\n",
              "      border-top-color: var(--fill-color);\n",
              "    }\n",
              "    60% {\n",
              "      border-color: transparent;\n",
              "      border-right-color: var(--fill-color);\n",
              "    }\n",
              "    80% {\n",
              "      border-color: transparent;\n",
              "      border-right-color: var(--fill-color);\n",
              "      border-bottom-color: var(--fill-color);\n",
              "    }\n",
              "    90% {\n",
              "      border-color: transparent;\n",
              "      border-bottom-color: var(--fill-color);\n",
              "    }\n",
              "  }\n",
              "</style>\n",
              "\n",
              "  <script>\n",
              "    async function quickchart(key) {\n",
              "      const quickchartButtonEl =\n",
              "        document.querySelector('#' + key + ' button');\n",
              "      quickchartButtonEl.disabled = true;  // To prevent multiple clicks.\n",
              "      quickchartButtonEl.classList.add('colab-df-spinner');\n",
              "      try {\n",
              "        const charts = await google.colab.kernel.invokeFunction(\n",
              "            'suggestCharts', [key], {});\n",
              "      } catch (error) {\n",
              "        console.error('Error during call to suggestCharts:', error);\n",
              "      }\n",
              "      quickchartButtonEl.classList.remove('colab-df-spinner');\n",
              "      quickchartButtonEl.classList.add('colab-df-quickchart-complete');\n",
              "    }\n",
              "    (() => {\n",
              "      let quickchartButtonEl =\n",
              "        document.querySelector('#df-1388ad79-23b9-4489-8a80-2b879100ac10 button');\n",
              "      quickchartButtonEl.style.display =\n",
              "        google.colab.kernel.accessAllowed ? 'block' : 'none';\n",
              "    })();\n",
              "  </script>\n",
              "</div>\n",
              "    </div>\n",
              "  </div>\n"
            ],
            "application/vnd.google.colaboratory.intrinsic+json": {
              "type": "dataframe",
              "variable_name": "df",
              "repr_error": "'str' object has no attribute 'empty'"
            }
          },
          "metadata": {},
          "execution_count": 39
        }
      ]
    },
    {
      "cell_type": "code",
      "source": [
        "df.info()"
      ],
      "metadata": {
        "colab": {
          "base_uri": "https://localhost:8080/"
        },
        "id": "Aga2kPPBVofN",
        "outputId": "e5bc7e53-f5a7-49f4-8d3d-676ebb0e1ce8"
      },
      "execution_count": 40,
      "outputs": [
        {
          "output_type": "stream",
          "name": "stdout",
          "text": [
            "<class 'pandas.core.frame.DataFrame'>\n",
            "Int64Index: 443 entries, 46109 to 26945\n",
            "Data columns (total 7 columns):\n",
            " #   Column       Non-Null Count  Dtype  \n",
            "---  ------       --------------  -----  \n",
            " 0   loan_type    443 non-null    object \n",
            " 1   loan_amount  443 non-null    int64  \n",
            " 2   repaid       443 non-null    int64  \n",
            " 3   loan_id      443 non-null    int64  \n",
            " 4   loan_start   443 non-null    object \n",
            " 5   loan_end     443 non-null    object \n",
            " 6   rate         443 non-null    float64\n",
            "dtypes: float64(1), int64(3), object(3)\n",
            "memory usage: 27.7+ KB\n"
          ]
        }
      ]
    },
    {
      "cell_type": "code",
      "source": [
        "missing_values = df.isnull().sum()\n",
        "print(\"Missing Values:\\n\", missing_values)"
      ],
      "metadata": {
        "colab": {
          "base_uri": "https://localhost:8080/"
        },
        "id": "SOOYXhlNV6uU",
        "outputId": "6b67a444-5702-4577-e18e-8d299cab1c4b"
      },
      "execution_count": 41,
      "outputs": [
        {
          "output_type": "stream",
          "name": "stdout",
          "text": [
            "Missing Values:\n",
            " loan_type      0\n",
            "loan_amount    0\n",
            "repaid         0\n",
            "loan_id        0\n",
            "loan_start     0\n",
            "loan_end       0\n",
            "rate           0\n",
            "dtype: int64\n"
          ]
        }
      ]
    },
    {
      "cell_type": "code",
      "source": [
        "plt.figure(figsize=(12, 7))\n",
        "sns.boxplot(data=df)\n",
        "plt.title(\"Boxplot of the Dataset\")\n",
        "plt.show()"
      ],
      "metadata": {
        "colab": {
          "base_uri": "https://localhost:8080/",
          "height": 622
        },
        "id": "GC63D51pWsj8",
        "outputId": "18566568-f761-445c-9d61-630eb8b889f1"
      },
      "execution_count": 44,
      "outputs": [
        {
          "output_type": "display_data",
          "data": {
            "text/plain": [
              "<Figure size 1200x700 with 1 Axes>"
            ],
            "image/png": "[encoded data removed]"
          },
          "metadata": {}
        }
      ]
    },
    {
      "cell_type": "code",
      "source": [
        "numeric_cols = df.select_dtypes(include=[np.number]).columns\n",
        "df[numeric_cols] = df[numeric_cols].apply(np.sqrt)\n",
        "print(\"\\nInfo after SQRT transformation:\")\n",
        "print(df.info())"
      ],
      "metadata": {
        "colab": {
          "base_uri": "https://localhost:8080/"
        },
        "id": "OeJMLGIzYlO7",
        "outputId": "c6a4cb06-1b72-4e57-ff4c-425b01de0eb2"
      },
      "execution_count": 49,
      "outputs": [
        {
          "output_type": "stream",
          "name": "stdout",
          "text": [
            "\n",
            "Info after SQRT transformation:\n",
            "<class 'pandas.core.frame.DataFrame'>\n",
            "Int64Index: 443 entries, 46109 to 26945\n",
            "Data columns (total 7 columns):\n",
            " #   Column       Non-Null Count  Dtype  \n",
            "---  ------       --------------  -----  \n",
            " 0   loan_type    443 non-null    object \n",
            " 1   loan_amount  443 non-null    float64\n",
            " 2   repaid       443 non-null    float64\n",
            " 3   loan_id      443 non-null    float64\n",
            " 4   loan_start   443 non-null    object \n",
            " 5   loan_end     443 non-null    object \n",
            " 6   rate         443 non-null    float64\n",
            "dtypes: float64(4), object(3)\n",
            "memory usage: 27.7+ KB\n",
            "None\n"
          ]
        }
      ]
    },
    {
      "cell_type": "code",
      "source": [
        "numeric_cols = df.select_dtypes(include=[np.number]).columns\n",
        "z_scores = np.abs(zscore(df[numeric_cols]))\n",
        "\n",
        "threshold = 3\n",
        "df_capped = df[(z_scores < threshold).all(axis=1)]\n",
        "print(\"\\nInfo after Z-Score capping:\")\n",
        "print(df_capped.info())"
      ],
      "metadata": {
        "colab": {
          "base_uri": "https://localhost:8080/"
        },
        "id": "CKPkgCqwagfU",
        "outputId": "eb22572a-c300-41f9-9dca-63b4b32a2e65"
      },
      "execution_count": 50,
      "outputs": [
        {
          "output_type": "stream",
          "name": "stdout",
          "text": [
            "\n",
            "Info after Z-Score capping:\n",
            "<class 'pandas.core.frame.DataFrame'>\n",
            "Int64Index: 435 entries, 46109 to 26945\n",
            "Data columns (total 7 columns):\n",
            " #   Column       Non-Null Count  Dtype  \n",
            "---  ------       --------------  -----  \n",
            " 0   loan_type    435 non-null    object \n",
            " 1   loan_amount  435 non-null    float64\n",
            " 2   repaid       435 non-null    float64\n",
            " 3   loan_id      435 non-null    float64\n",
            " 4   loan_start   435 non-null    object \n",
            " 5   loan_end     435 non-null    object \n",
            " 6   rate         435 non-null    float64\n",
            "dtypes: float64(4), object(3)\n",
            "memory usage: 27.2+ KB\n",
            "None\n"
          ]
        }
      ]
    },
    {
      "cell_type": "code",
      "source": [
        "print(\"Column Names:\", df.columns)\n",
        "\n",
        "# Select only numeric columns for Min-Max Normalization\n",
        "numeric_cols = df.select_dtypes(include=[np.number]).columns\n",
        "\n",
        "# Apply Min-Max Normalization to numeric columns\n",
        "scaler = MinMaxScaler()\n",
        "df[numeric_cols] = scaler.fit_transform(df[numeric_cols])\n",
        "\n",
        "# Display skewness and kurtosis for 'loan_amount'\n",
        "loan_amount_col = 'loan_amount'  # Replace with the actual column name\n",
        "skewness = df[loan_amount_col].skew()\n",
        "kurtosis = df[loan_amount_col].kurtosis()\n",
        "\n",
        "print(f'Skewness of {loan_amount_col}: {skewness}')\n",
        "print(f'Kurtosis of {loan_amount_col}: {kurtosis}')\n",
        "\n",
        "# Display skewness and kurtosis plots\n",
        "plt.figure(figsize=(12, 7))\n",
        "plt.subplot(1, 2, 1)\n",
        "sns.histplot(df[loan_amount_col], kde=True)\n",
        "plt.title(f'Histogram of {loan_amount_col}')\n",
        "\n",
        "plt.subplot(1, 2, 2)\n",
        "sns.boxplot(df[loan_amount_col])\n",
        "plt.title(f'Boxplot of {loan_amount_col}')\n",
        "\n",
        "plt.show()"
      ],
      "metadata": {
        "colab": {
          "base_uri": "https://localhost:8080/",
          "height": 728
        },
        "id": "VPqKHIoKcldz",
        "outputId": "9b7b2304-4141-44ca-9c62-ff2782140843"
      },
      "execution_count": 57,
      "outputs": [
        {
          "output_type": "stream",
          "name": "stdout",
          "text": [
            "Column Names: Index(['loan_type', 'loan_amount', 'repaid', 'loan_id', 'loan_start',\n",
            "       'loan_end', 'rate'],\n",
            "      dtype='object')\n",
            "Skewness of loan_amount: -0.9157820477370064\n",
            "Kurtosis of loan_amount: 0.11272714997677857\n"
          ]
        },
        {
          "output_type": "display_data",
          "data": {
            "text/plain": [
              "<Figure size 1200x700 with 2 Axes>"
            ],
            "image/png": "[encoded data removed]"
          },
          "metadata": {}
        }
      ]
    },
    {
      "cell_type": "code",
      "source": [
        "df_encoded = pd.get_dummies(df, columns=['loan_type', 'repaid'])\n",
        "\n",
        "print(\"First five rows after encoding:\")\n",
        "print(df_encoded.head())\n"
      ],
      "metadata": {
        "colab": {
          "base_uri": "https://localhost:8080/"
        },
        "id": "LvGU9p59dkLa",
        "outputId": "386ac057-278e-4792-ce0b-60702da7dd81"
      },
      "execution_count": 69,
      "outputs": [
        {
          "output_type": "stream",
          "name": "stdout",
          "text": [
            "First five rows after encoding:\n",
            "           loan_amount   loan_id loan_start   loan_end      rate  loan_tenure  \\\n",
            "client_id                                                                       \n",
            "46109         0.966523  0.126655 2002-04-16 2003-12-20  0.663842          613   \n",
            "46109         0.846699  0.511676 2003-10-21 2005-07-17  0.574858          635   \n",
            "46109         0.940572  0.514699 2006-02-01 2007-07-05  0.481895          519   \n",
            "46109         0.934360  0.313010 2010-12-08 2013-05-05  0.573585          879   \n",
            "46109         0.976516  0.725285 2010-07-07 2012-05-21  0.729097          684   \n",
            "\n",
            "           loan_type_cash  loan_type_credit  loan_type_home  loan_type_other  \\\n",
            "client_id                                                                      \n",
            "46109                   0                 0               1                0   \n",
            "46109                   0                 1               0                0   \n",
            "46109                   0                 0               1                0   \n",
            "46109                   1                 0               0                0   \n",
            "46109                   0                 1               0                0   \n",
            "\n",
            "           repaid_0.0  repaid_1.0  \n",
            "client_id                          \n",
            "46109               1           0  \n",
            "46109               1           0  \n",
            "46109               0           1  \n",
            "46109               0           1  \n",
            "46109               0           1  \n"
          ]
        }
      ]
    },
    {
      "cell_type": "code",
      "source": [
        "df['loan_start'] = pd.to_datetime(df['loan_start'])\n",
        "df['loan_end'] = pd.to_datetime(df['loan_end'])\n",
        "df['loan_tenure'] = (df['loan_end'] - df['loan_start']).dt.days\n",
        "print(\"First five rows with loan tenure:\")\n",
        "print(df.head())\n"
      ],
      "metadata": {
        "colab": {
          "base_uri": "https://localhost:8080/"
        },
        "id": "OoDHvsWadmah",
        "outputId": "14ff535d-fb88-427b-9901-b43586da688c"
      },
      "execution_count": 74,
      "outputs": [
        {
          "output_type": "stream",
          "name": "stdout",
          "text": [
            "First five rows with loan tenure:\n",
            "          loan_type  loan_amount  repaid   loan_id loan_start   loan_end  \\\n",
            "client_id                                                                  \n",
            "46109          home     0.966523     0.0  0.126655 2002-04-16 2003-12-20   \n",
            "46109        credit     0.846699     0.0  0.511676 2003-10-21 2005-07-17   \n",
            "46109          home     0.940572     1.0  0.514699 2006-02-01 2007-07-05   \n",
            "46109          cash     0.934360     1.0  0.313010 2010-12-08 2013-05-05   \n",
            "46109        credit     0.976516     1.0  0.725285 2010-07-07 2012-05-21   \n",
            "\n",
            "               rate  loan_tenure  \n",
            "client_id                         \n",
            "46109      0.663842          613  \n",
            "46109      0.574858          635  \n",
            "46109      0.481895          519  \n",
            "46109      0.573585          879  \n",
            "46109      0.729097          684  \n"
          ]
        }
      ]
    },
    {
      "cell_type": "code",
      "source": [
        "X = df_encoded.drop('rate', axis=1)\n",
        "y = df_encoded['rate']\n",
        "\n",
        "# Set random_state for reproducibility\n",
        "X_train, X_test, y_train, y_test = train_test_split(X, y, test_size=0.2, random_state=42)\n",
        "\n",
        "# Display the shapes of the resulting sets\n",
        "print(\"Shape of X_train:\", X_train.shape)\n",
        "print(\"Shape of X_test:\", X_test.shape)\n",
        "print(\"Shape of y_train:\", y_train.shape)\n",
        "print(\"Shape of y_test:\", y_test.shape)\n"
      ],
      "metadata": {
        "colab": {
          "base_uri": "https://localhost:8080/"
        },
        "id": "vd2NNru_ds_J",
        "outputId": "adc6c853-e9d1-4263-d3ff-e86c09f68489"
      },
      "execution_count": 73,
      "outputs": [
        {
          "output_type": "stream",
          "name": "stdout",
          "text": [
            "Shape of X_train: (354, 11)\n",
            "Shape of X_test: (89, 11)\n",
            "Shape of y_train: (354,)\n",
            "Shape of y_test: (89,)\n"
          ]
        }
      ]
    }
  ]
}