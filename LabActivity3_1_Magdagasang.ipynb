{
  "nbformat": 4,
  "nbformat_minor": 0,
  "metadata": {
    "colab": {
      "provenance": [],
      "authorship_tag": "ABX9TyMM2xjlhQ5nR+GgSTTRJjtL",
      "include_colab_link": true
    },
    "kernelspec": {
      "name": "python3",
      "display_name": "Python 3"
    },
    "language_info": {
      "name": "python"
    }
  },
  "cells": [
    {
      "cell_type": "markdown",
      "metadata": {
        "id": "view-in-github",
        "colab_type": "text"
      },
      "source": [
        "<a href=\"https://colab.research.google.com/github/JoshuaMagz/JoshuaMagz_3a_Itban3/blob/main/LabActivity3_1_Magdagasang.ipynb\" target=\"_parent\"><img src=\"https://colab.research.google.com/assets/colab-badge.svg\" alt=\"Open In Colab\"/></a>"
      ]
    },
    {
      "cell_type": "code",
      "execution_count": null,
      "metadata": {
        "id": "Z7SGHkHscRJo"
      },
      "outputs": [],
      "source": [
        "import pandas as pd"
      ]
    },
    {
      "cell_type": "code",
      "source": [
        "data = {\n",
        "    'traveller': ['Emily', 'Daniel', 'Grace', 'Harry', 'Isabel'],\n",
        "    'departure': ['Manila', 'Manila', 'Davao City', 'Davao City', 'Manila'],\n",
        "    'departure_time': ['2023-05-10', '2023-06-15', '2023-07-20', '2023-08-25', '2023-09-30'],\n",
        "    'arrival': ['Davao City', 'Davao City', 'Manila', 'Manila', 'Davao City'],\n",
        "    'arrival_time': ['2023-05-11', '2023-06-16', '2023-07-21', '2023-08-26', '2023-10-01'],\n",
        "    'flight': ['CebuPac333', 'PAL777', 'PAL888', 'CebuPac999', 'PAL555'],\n",
        "    'fare': [5300, 6200, 7100, 5800, 6400]\n",
        "}"
      ],
      "metadata": {
        "id": "BiKcp7g_cZX6"
      },
      "execution_count": null,
      "outputs": []
    },
    {
      "cell_type": "code",
      "source": [
        "df = pd.DataFrame(data)"
      ],
      "metadata": {
        "id": "xKf8cgcBclD_"
      },
      "execution_count": null,
      "outputs": []
    },
    {
      "cell_type": "code",
      "source": [
        "\n",
        "# Filter for flights from Davao City to Manila operated by Philippine Airlines (PAL)\n",
        "df_pa = df[(df['departure'] == 'Davao City') &\n",
        "           (df['arrival'] == 'Manila') &\n",
        "           (df['flight'].str.startswith('PAL'))].copy()\n",
        "\n",
        "# Convert departure time to datetime and extract the month\n",
        "df_pa['departure_time'] = pd.to_datetime(df_pa['departure_time'])\n",
        "df_pa['month'] = df_pa['departure_time'].dt.month\n",
        "\n",
        "# Calculate the average fare per month\n",
        "average_fare_per_month = df_pa.groupby('month')['fare'].mean().reset_index()"
      ],
      "metadata": {
        "id": "fbHRu49Ocmzn"
      },
      "execution_count": null,
      "outputs": []
    },
    {
      "cell_type": "code",
      "source": [
        "print(\"Average fare per month for Philippine Airlines flights from Davao City to Manila:\")\n",
        "print(average_fare_per_month)"
      ],
      "metadata": {
        "colab": {
          "base_uri": "https://localhost:8080/"
        },
        "id": "hPAb3cZKcwsP",
        "outputId": "fa30688f-4239-4074-9f3c-9fa91148e1c9"
      },
      "execution_count": null,
      "outputs": [
        {
          "output_type": "stream",
          "name": "stdout",
          "text": [
            "Average fare per month for Philippine Airlines flights from Davao City to Manila:\n",
            "   month    fare\n",
            "0      7  7100.0\n"
          ]
        }
      ]
    }
  ]
}